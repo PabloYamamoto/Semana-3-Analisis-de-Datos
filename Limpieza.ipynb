{
  "cells": [
    {
      "cell_type": "code",
      "execution_count": 93,
      "metadata": {
        "id": "C6MlOu1o8mZO"
      },
      "outputs": [],
      "source": [
        "import pandas as pd\n",
        "import matplotlib.pyplot as plt"
      ]
    },
    {
      "cell_type": "code",
      "execution_count": 94,
      "metadata": {
        "colab": {
          "base_uri": "https://localhost:8080/"
        },
        "id": "KbGBX_ZA8jml",
        "outputId": "77aaa4cd-9f1c-4588-d07a-2c677192bcca"
      },
      "outputs": [
        {
          "name": "stdout",
          "output_type": "stream",
          "text": [
            "Len of Companies before cleaning: 237\n",
            "Len of Vehicles before cleaning: 42\n",
            "['New Space', 'Colortel', 'unknown', 'Pullman', 'Correios', 'Piquetur Log', 'Brico', 'Vigor', 'Proactiva', 'Famiglia Fertucilli', 'Guaraná', 'Coca-Cola', 'Antarctica', 'Budweiser', 'Famiglia Francello', 'Blue Angels', 'Cocacda', 'Aurora', 'Pepsilo', 'Fazenda', 'Acqua VIP', 'Suzuki', 'DHL', 'Nestle', 'Control Express', 'Jamef', 'Pão de Açúcar', 'Titan Express', 'Nivaboy Express', 'Extra', 'Empório Beraldin', 'Ravage Express', 'Brasileira Express', 'Mega Express', 'Maqgel', 'Personal Service', \"Silva's Hortifruti\", 'Sedex Correios', 'Souza Cruz', 'Supernova', 'Trans Tour', 'Vinhais', 'Castropil', 'Trans Magna', 'America Delivery', 'Acert Express', 'Napolitano', 'Campeão Paulista', 'UPS', 'Tramax', 'Antilhas', 'Aroumar', 'Ceratti', 'Q', 'Marcas de España', 'Santa Luiza', 'Pacer Logística', 'Transminato', 'Fedex', 'Gigio', 'Mundancia Carreto', 'Café Toledo', 'Tasca', 'Wan-San', 'Daytona Express', 'Embalagens Trinca', nan, 'City Freight', 'CNEX', 'CCTV', 'china post', 'Best Express', 'YCIL', 'YTO Express', 'EMS', 'China Post', 'YTOEXPRESS', 'Unknown', 'Comapan', 'Empanadas Santander', 'Pony Malta', 'Coke', 'Bimbo', 'Hills', 'Servientrega', 'Guadalupe', 'Postob�n', 'De Todito', 'McCain', 'Frito Lay', 'San Mateo', 'Supermas Stick', 'La Alquer�a', 'Colandes', 'Kikes Huevos', 'Panflex', 'L�cteos Jirah', 'Gansito', 'Alpina', 'Arepa siempre fresca', 'Todo Rico', 'Pollo', 'Alquer�a', 'Supertiendas la 42', 'Quindio', 'Mar y Peces', 'Distraves', 'Mis Carnes', 'No name', 'Reel Fresh', 'Double Class', 'Ladon', 'Afrah', 'Poslaju', 'Nagoya', 'DBKL', 'Rona', 'Amber Air Freight', 'Ambius', 'TAGE', 'SOS Express', 'Hari Hari', 'Boleh Didapati', 'ABX Express', 'City Link', \"D'Urban\", 'Crystal Ice', 'Telaga', 'MPH', 'HiCom', 'KTS Wisel', 'Dunia', 'Smart Connexion', 'Da Vinci', 'Tutti Fruitti', 'Airpak', 'Jukebox', 'Gerimis Baiduri', 'Le Meridien', 'Kangaroo', 'Sasbid', 'Wholesale Retail Stationery', 'Lasani', 'Renoma', 'Atlas', 'Rinnai', 'TM', 'Princess', 'Sky Net', 'TLC', 'The Sun', 'Keno', 'International Law Book Series', \"D'Fruit Trading\", 'Telaga Biru', 'Teoh Co. Logistics', 'Hock Cheong', 'AIS', 'Total Logistics', 'Parklane Fabrics', 'Guru', 'Pita Pan', 'Repsol', 'Anvi Distribuciones', 'Correos', 'Anvi', 'Tasol', 'Ocsa', 'Al Corte', 'El Carche', 'Don Pin', 'Reformas Ayala', 'TIPS', 'Coca Cola', 'Madrid', 'Ovonovo - Huevos Relasco', 'Luis Simoes', 'Frigorifico', 'Iris Color', 'Aperitive', 'DonPin', 'Ryder', 'Smoking Loon', 'U.S.Foods', 'Guinness', 'Agar Latino', 'Russo & Sons', 'LKQ', 'Laser Ship', 'Island Creek Oysters', 'Central Bakery Inc', \"Iggy's\", 'Agar', 'Bombay Sapphire ', 'Angers Trucking inc', 'Penske', 'US foods', 'Paul W Marks', 'AI', '\"Towing\"', 'Heineken', 'Lala', 'Crema Rancherita', 'Jarritos', 'Helio Fiesta', 'Sabritas', 'Red Cola', 'Gepp', 'Firesta', 'Carana', 'Unkonwn', 'Heinegen', 'Red Pack', 'Epura', 'Volumex', 'Forti Leche', 'La Sierra', 'Chapanitas', 'Bonafont', 'Uknown', 'Fiesta', 'Unknow', 'Tecate', 'Corona', 'Alpura', 'Hielo Fiesta', 'Barcel', 'Paletas Payaso', 'Boing', 'Servicio Mercantil de trasporte y Carga', 'A1', 'OFIX', 'Naranjada', 'Trash', 'Danone', 'Indio', 'Hielo Club']\n",
            "['van', 'motorbike', 'rigid truck', 'bicycle', 'pickup truck', 'pedestrian', 'car', 'cart', 'rigid', 'VAN', 'truck', 'tricycle', 'CAR', 'TRUCK', 'TRICYCLE', 'minivan', 'Truck', 'Van', 'Bicycle', 'Pickup', 'Big Truck', 'Man', 'Motorcycle', 'Carbike', 'Car', 'Horse', 'Pedestrian', 'Taxi', 'SUV', 'Van ', ' Van', 'Turck', 'Truck ', 'Rigid Truck', 'Articulated Truck', 'Rigid', 'Unknown', 'Pickup Truck', 'Dolly', 'Dolly ', 'Bike', 'RT']\n"
          ]
        }
      ],
      "source": [
        "\n",
        "df = pd.read_excel(\"Deliveries_disruptions.xlsx\", \"Hoja3\")\n",
        "print(f\"Len of Companies before cleaning: {len(df['Divering Company'].unique().tolist())}\")\n",
        "print(f\"Len of Vehicles before cleaning: {len(df['Vehicle Type'].unique().tolist())}\")\n",
        "\n",
        "# Remove unamed columns\n",
        "df.drop(df.columns[df.columns.str.contains('unnamed',case = False)],axis = 1, inplace = True)\n",
        "# Remove rows only if they have entire missing values\n",
        "df.dropna(axis='index', how='all')\n",
        "print(df['Divering Company'].unique().tolist())\n",
        "print(df['Vehicle Type'].unique().tolist())\n"
      ]
    },
    {
      "cell_type": "code",
      "execution_count": 95,
      "metadata": {
        "colab": {
          "base_uri": "https://localhost:8080/"
        },
        "id": "dcWpBhlqCpty",
        "outputId": "412cded6-7c9f-4ccc-ba25-5511365275cb"
      },
      "outputs": [
        {
          "name": "stdout",
          "output_type": "stream",
          "text": [
            "['New Space', 'Colortel', 'unknown', 'Pullman', 'Correios', 'Piquetur Log', 'Brico', 'Vigor', 'Proactiva', 'Famiglia Fertucilli', 'Guaraná', 'Coca-Cola', 'Antarctica', 'Budweiser', 'Famiglia Francello', 'Blue Angels', 'Cocacda', 'Aurora', 'Pepsilo', 'Fazenda', 'Acqua VIP', 'Suzuki', 'DHL', 'Nestle', 'Control Express', 'Jamef', 'Pão de Açúcar', 'Titan Express', 'Nivaboy Express', 'Extra', 'Empório Beraldin', 'Ravage Express', 'Brasileira Express', 'Mega Express', 'Maqgel', 'Personal Service', \"Silva's Hortifruti\", 'Sedex Correios', 'Souza Cruz', 'Supernova', 'Trans Tour', 'Vinhais', 'Castropil', 'Trans Magna', 'America Delivery', 'Acert Express', 'Napolitano', 'Campeão Paulista', 'UPS', 'Tramax', 'Antilhas', 'Aroumar', 'Ceratti', 'Q', 'Marcas de España', 'Santa Luiza', 'Pacer Logística', 'Transminato', 'Fedex', 'Gigio', 'Mundancia Carreto', 'Café Toledo', 'Tasca', 'Wan-San', 'Daytona Express', 'Embalagens Trinca', nan, 'City Freight', 'CNEX', 'CCTV', 'china post', 'Best Express', 'YCIL', 'YTO Express', 'EMS', 'China Post', 'YTOEXPRESS', 'Unknown', 'Comapan', 'Empanadas Santander', 'Pony Malta', 'Coke', 'Bimbo', 'Hills', 'Servientrega', 'Guadalupe', 'Postob�n', 'De Todito', 'McCain', 'Frito Lay', 'San Mateo', 'Supermas Stick', 'La Alquer�a', 'Colandes', 'Kikes Huevos', 'Panflex', 'L�cteos Jirah', 'Gansito', 'Alpina', 'Arepa siempre fresca', 'Todo Rico', 'Pollo', 'Alquer�a', 'Supertiendas la 42', 'Quindio', 'Mar y Peces', 'Distraves', 'Mis Carnes', 'No name', 'Reel Fresh', 'Double Class', 'Ladon', 'Afrah', 'Poslaju', 'Nagoya', 'DBKL', 'Rona', 'Amber Air Freight', 'Ambius', 'TAGE', 'SOS Express', 'Hari Hari', 'Boleh Didapati', 'ABX Express', 'City Link', \"D'Urban\", 'Crystal Ice', 'Telaga', 'MPH', 'HiCom', 'KTS Wisel', 'Dunia', 'Smart Connexion', 'Da Vinci', 'Tutti Fruitti', 'Airpak', 'Jukebox', 'Gerimis Baiduri', 'Le Meridien', 'Kangaroo', 'Sasbid', 'Wholesale Retail Stationery', 'Lasani', 'Renoma', 'Atlas', 'Rinnai', 'TM', 'Princess', 'Sky Net', 'TLC', 'The Sun', 'Keno', 'International Law Book Series', \"D'Fruit Trading\", 'Telaga Biru', 'Teoh Co. Logistics', 'Hock Cheong', 'AIS', 'Total Logistics', 'Parklane Fabrics', 'Guru', 'Pita Pan', 'Repsol', 'Anvi Distribuciones', 'Correos', 'Anvi', 'Tasol', 'Ocsa', 'Al Corte', 'El Carche', 'Don Pin', 'Reformas Ayala', 'TIPS', 'Coca Cola', 'Madrid', 'Ovonovo - Huevos Relasco', 'Luis Simoes', 'Frigorifico', 'Iris Color', 'Aperitive', 'DonPin', 'Ryder', 'Smoking Loon', 'U.S.Foods', 'Guinness', 'Agar Latino', 'Russo & Sons', 'LKQ', 'Laser Ship', 'Island Creek Oysters', 'Central Bakery Inc', \"Iggy's\", 'Agar', 'Bombay Sapphire ', 'Angers Trucking inc', 'Penske', 'US foods', 'Paul W Marks', 'AI', '\"Towing\"', 'Heineken', 'Lala', 'Crema Rancherita', 'Jarritos', 'Helio Fiesta', 'Sabritas', 'Red Cola', 'Gepp', 'Firesta', 'Carana', 'Unkonwn', 'Heinegen', 'Red Pack', 'Epura', 'Volumex', 'Forti Leche', 'La Sierra', 'Chapanitas', 'Bonafont', 'Uknown', 'Fiesta', 'Unknow', 'Tecate', 'Corona', 'Alpura', 'Hielo Fiesta', 'Barcel', 'Paletas Payaso', 'Boing', 'Servicio Mercantil de trasporte y Carga', 'A1', 'OFIX', 'Naranjada', 'Trash', 'Danone', 'Indio', 'Hielo Club']\n",
            "['van', 'motorbike', 'rigid truck', 'bicycle', 'pickup truck', 'pedestrian', 'car', 'cart', 'rigid', 'VAN', 'truck', 'tricycle', 'CAR', 'TRUCK', 'TRICYCLE', 'minivan', 'Truck', 'Van', 'Bicycle', 'Pickup', 'Big Truck', 'Man', 'Motorcycle', 'Carbike', 'Car', 'Horse', 'Pedestrian', 'Taxi', 'SUV', 'Van ', ' Van', 'Turck', 'Truck ', 'Rigid Truck', 'Articulated Truck', 'Rigid', 'Unknown', 'Pickup Truck', 'Dolly', 'Dolly ', 'Bike', 'RT']\n"
          ]
        }
      ],
      "source": [
        "# ----- Esta funcion aplica para las columnas de Vehicle Type y Driving Company ----\n",
        "# Quitar las dobles comillas de los valores\n",
        "df['Divering Company']= df['Divering Company'].replace('\\\"','') \n",
        "df['Vehicle Type']= df['Vehicle Type'].replace('\\\"','') \n",
        "print(df['Divering Company'].unique().tolist())\n",
        "print(df['Vehicle Type'].unique().tolist())\n"
      ]
    },
    {
      "cell_type": "code",
      "execution_count": 96,
      "metadata": {
        "colab": {
          "base_uri": "https://localhost:8080/"
        },
        "id": "o7Y6TnVtxTLd",
        "outputId": "bdc06cb3-a0b4-4969-f014-0cd3890df137"
      },
      "outputs": [
        {
          "name": "stdout",
          "output_type": "stream",
          "text": [
            "['New Space', 'Colortel', 'unknown', 'Pullman', 'Correios', 'Piquetur Log', 'Brico', 'Vigor', 'Proactiva', 'Famiglia Fertucilli', 'Guaran', 'Coca-Cola', 'Antarctica', 'Budweiser', 'Famiglia Francello', 'Blue Angels', 'Cocacda', 'Aurora', 'Pepsilo', 'Fazenda', 'Acqua VIP', 'Suzuki', 'DHL', 'Nestle', 'Control Express', 'Jamef', 'Po de Acar', 'Titan Express', 'Nivaboy Express', 'Extra', 'Emprio Beraldin', 'Ravage Express', 'Brasileira Express', 'Mega Express', 'Maqgel', 'Personal Service', \"Silva's Hortifruti\", 'Sedex Correios', 'Souza Cruz', 'Supernova', 'Trans Tour', 'Vinhais', 'Castropil', 'Trans Magna', 'America Delivery', 'Acert Express', 'Napolitano', 'Campeo Paulista', 'UPS', 'Tramax', 'Antilhas', 'Aroumar', 'Ceratti', 'Q', 'Marcas de Espaa', 'Santa Luiza', 'Pacer Logstica', 'Transminato', 'Fedex', 'Gigio', 'Mundancia Carreto', 'Caf Toledo', 'Tasca', 'Wan-San', 'Daytona Express', 'Embalagens Trinca', nan, 'City Freight', 'CNEX', 'CCTV', 'china post', 'Best Express', 'YCIL', 'YTO Express', 'EMS', 'China Post', 'YTOEXPRESS', 'Unknown', 'Comapan', 'Empanadas Santander', 'Pony Malta', 'Coke', 'Bimbo', 'Hills', 'Servientrega', 'Guadalupe', 'Postobn', 'De Todito', 'McCain', 'Frito Lay', 'San Mateo', 'Supermas Stick', 'La Alquera', 'Colandes', 'Kikes Huevos', 'Panflex', 'Lcteos Jirah', 'Gansito', 'Alpina', 'Arepa siempre fresca', 'Todo Rico', 'Pollo', 'Alquera', 'Supertiendas la 42', 'Quindio', 'Mar y Peces', 'Distraves', 'Mis Carnes', 'No name', 'Reel Fresh', 'Double Class', 'Ladon', 'Afrah', 'Poslaju', 'Nagoya', 'DBKL', 'Rona', 'Amber Air Freight', 'Ambius', 'TAGE', 'SOS Express', 'Hari Hari', 'Boleh Didapati', 'ABX Express', 'City Link', \"D'Urban\", 'Crystal Ice', 'Telaga', 'MPH', 'HiCom', 'KTS Wisel', 'Dunia', 'Smart Connexion', 'Da Vinci', 'Tutti Fruitti', 'Airpak', 'Jukebox', 'Gerimis Baiduri', 'Le Meridien', 'Kangaroo', 'Sasbid', 'Wholesale Retail Stationery', 'Lasani', 'Renoma', 'Atlas', 'Rinnai', 'TM', 'Princess', 'Sky Net', 'TLC', 'The Sun', 'Keno', 'International Law Book Series', \"D'Fruit Trading\", 'Telaga Biru', 'Teoh Co. Logistics', 'Hock Cheong', 'AIS', 'Total Logistics', 'Parklane Fabrics', 'Guru', 'Pita Pan', 'Repsol', 'Anvi Distribuciones', 'Correos', 'Anvi', 'Tasol', 'Ocsa', 'Al Corte', 'El Carche', 'Don Pin', 'Reformas Ayala', 'TIPS', 'Coca Cola', 'Madrid', 'Ovonovo - Huevos Relasco', 'Luis Simoes', 'Frigorifico', 'Iris Color', 'Aperitive', 'DonPin', 'Ryder', 'Smoking Loon', 'U.S.Foods', 'Guinness', 'Agar Latino', 'Russo & Sons', 'LKQ', 'Laser Ship', 'Island Creek Oysters', 'Central Bakery Inc', \"Iggy's\", 'Agar', 'Bombay Sapphire ', 'Angers Trucking inc', 'Penske', 'US foods', 'Paul W Marks', 'AI', '\"Towing\"', 'Heineken', 'Lala', 'Crema Rancherita', 'Jarritos', 'Helio Fiesta', 'Sabritas', 'Red Cola', 'Gepp', 'Firesta', 'Carana', 'Unkonwn', 'Heinegen', 'Red Pack', 'Epura', 'Volumex', 'Forti Leche', 'La Sierra', 'Chapanitas', 'Bonafont', 'Uknown', 'Fiesta', 'Unknow', 'Tecate', 'Corona', 'Alpura', 'Hielo Fiesta', 'Barcel', 'Paletas Payaso', 'Boing', 'Servicio Mercantil de trasporte y Carga', 'A1', 'OFIX', 'Naranjada', 'Trash', 'Danone', 'Indio', 'Hielo Club']\n"
          ]
        }
      ],
      "source": [
        "# Quitar valores no ascii\n",
        "df = df.applymap(lambda x: x.encode('ascii', 'ignore').decode('ascii') if isinstance(x, str) else x)\n",
        "print(df['Divering Company'].unique().tolist())"
      ]
    },
    {
      "cell_type": "code",
      "execution_count": 97,
      "metadata": {
        "colab": {
          "base_uri": "https://localhost:8080/"
        },
        "id": "MtNY1acrECmK",
        "outputId": "78060dba-e5c5-40b3-a9d0-2efea09ac8ce"
      },
      "outputs": [
        {
          "name": "stdout",
          "output_type": "stream",
          "text": [
            "['New Space', 'Colortel', 'unknown', 'Pullman', 'Correios', 'Piquetur Log', 'Brico', 'Vigor', 'Proactiva', 'Famiglia Fertucilli', 'Guaran', 'Coca-Cola', 'Antarctica', 'Budweiser', 'Famiglia Francello', 'Blue Angels', 'Cocacda', 'Aurora', 'Pepsilo', 'Fazenda', 'Acqua VIP', 'Suzuki', 'DHL', 'Nestle', 'Control Express', 'Jamef', 'Po de Acar', 'Titan Express', 'Nivaboy Express', 'Extra', 'Emprio Beraldin', 'Ravage Express', 'Brasileira Express', 'Mega Express', 'Maqgel', 'Personal Service', \"Silva's Hortifruti\", 'Sedex Correios', 'Souza Cruz', 'Supernova', 'Trans Tour', 'Vinhais', 'Castropil', 'Trans Magna', 'America Delivery', 'Acert Express', 'Napolitano', 'Campeo Paulista', 'UPS', 'Tramax', 'Antilhas', 'Aroumar', 'Ceratti', 'Q', 'Marcas de Espaa', 'Santa Luiza', 'Pacer Logstica', 'Transminato', 'Fedex', 'Gigio', 'Mundancia Carreto', 'Caf Toledo', 'Tasca', 'Wan-San', 'Daytona Express', 'Embalagens Trinca', nan, 'City Freight', 'CNEX', 'CCTV', 'china post', 'Best Express', 'YCIL', 'YTO Express', 'EMS', 'China Post', 'YTOEXPRESS', 'Unknown', 'Comapan', 'Empanadas Santander', 'Pony Malta', 'Coke', 'Bimbo', 'Hills', 'Servientrega', 'Guadalupe', 'Postobn', 'De Todito', 'McCain', 'Frito Lay', 'San Mateo', 'Supermas Stick', 'La Alquera', 'Colandes', 'Kikes Huevos', 'Panflex', 'Lcteos Jirah', 'Gansito', 'Alpina', 'Arepa siempre fresca', 'Todo Rico', 'Pollo', 'Alquera', 'Supertiendas la 42', 'Quindio', 'Mar y Peces', 'Distraves', 'Mis Carnes', 'Reel Fresh', 'Double Class', 'Ladon', 'Afrah', 'Poslaju', 'Nagoya', 'DBKL', 'Rona', 'Amber Air Freight', 'Ambius', 'TAGE', 'SOS Express', 'Hari Hari', 'Boleh Didapati', 'ABX Express', 'City Link', \"D'Urban\", 'Crystal Ice', 'Telaga', 'MPH', 'HiCom', 'KTS Wisel', 'Dunia', 'Smart Connexion', 'Da Vinci', 'Tutti Fruitti', 'Airpak', 'Jukebox', 'Gerimis Baiduri', 'Le Meridien', 'Kangaroo', 'Sasbid', 'Wholesale Retail Stationery', 'Lasani', 'Renoma', 'Atlas', 'Rinnai', 'TM', 'Princess', 'Sky Net', 'TLC', 'The Sun', 'Keno', 'International Law Book Series', \"D'Fruit Trading\", 'Telaga Biru', 'Teoh Co. Logistics', 'Hock Cheong', 'AIS', 'Total Logistics', 'Parklane Fabrics', 'Guru', 'Pita Pan', 'Repsol', 'Anvi Distribuciones', 'Correos', 'Anvi', 'Tasol', 'Ocsa', 'Al Corte', 'El Carche', 'Don Pin', 'Reformas Ayala', 'TIPS', 'Coca Cola', 'Madrid', 'Ovonovo - Huevos Relasco', 'Luis Simoes', 'Frigorifico', 'Iris Color', 'Aperitive', 'DonPin', 'Ryder', 'Smoking Loon', 'U.S.Foods', 'Guinness', 'Agar Latino', 'Russo & Sons', 'LKQ', 'Laser Ship', 'Island Creek Oysters', 'Central Bakery Inc', \"Iggy's\", 'Agar', 'Bombay Sapphire ', 'Angers Trucking inc', 'Penske', 'US foods', 'Paul W Marks', 'AI', '\"Towing\"', 'Heineken', 'Lala', 'Crema Rancherita', 'Jarritos', 'Helio Fiesta', 'Sabritas', 'Red Cola', 'Gepp', 'Firesta', 'Carana', 'Unkonwn', 'Heinegen', 'Red Pack', 'Epura', 'Volumex', 'Forti Leche', 'La Sierra', 'Chapanitas', 'Bonafont', 'Uknown', 'Fiesta', 'Unknow', 'Tecate', 'Corona', 'Alpura', 'Hielo Fiesta', 'Barcel', 'Paletas Payaso', 'Boing', 'Servicio Mercantil de trasporte y Carga', 'A1', 'OFIX', 'Naranjada', 'Trash', 'Danone', 'Indio', 'Hielo Club']\n",
            "['van', 'motorbike', 'rigid truck', 'bicycle', 'pickup truck', 'pedestrian', 'car', 'cart', 'rigid', 'VAN', 'truck', 'tricycle', 'CAR', 'TRUCK', 'TRICYCLE', 'minivan', 'Truck', 'Van', 'Bicycle', 'Pickup', 'Big Truck', 'Man', 'Motorcycle', 'Carbike', 'Car', 'Horse', ' Van', 'Van ', 'Pedestrian', 'Rigid Truck', 'Articulated Truck', 'Rigid', 'Unknown', 'Pickup Truck', 'Taxi', 'Dolly', 'Dolly ', 'Bike', 'RT']\n"
          ]
        }
      ],
      "source": [
        "# Quitar valores N/A \n",
        "# Definimos una lista con valores que deseamos quitar\n",
        "values = [\"N/A\", \"No name\"]\n",
        "\n",
        "# Aqui quitamos filas que contengan los valores en la lista para las columnas que especifiquemos\n",
        "df = df[df['Vehicle Type'].isin(values) == False]    \n",
        "df = df[df['Divering Company'].isin(values) == False]    \n",
        "print(df['Divering Company'].unique().tolist())\n",
        "print(df['Vehicle Type'].unique().tolist())"
      ]
    },
    {
      "cell_type": "code",
      "execution_count": 98,
      "metadata": {
        "colab": {
          "base_uri": "https://localhost:8080/"
        },
        "id": "TQnVcdvPEE1G",
        "outputId": "134a1aa6-7856-41be-f147-731a1fac51ca"
      },
      "outputs": [
        {
          "name": "stdout",
          "output_type": "stream",
          "text": [
            "['New space', 'Colortel', 'Unknown', 'Pullman', 'Correios', 'Piquetur log', 'Brico', 'Vigor', 'Proactiva', 'Famiglia fertucilli', 'Guaran', 'Coca-cola', 'Antarctica', 'Budweiser', 'Famiglia francello', 'Blue angels', 'Cocacda', 'Aurora', 'Pepsilo', 'Fazenda', 'Acqua vip', 'Suzuki', 'Dhl', 'Nestle', 'Control express', 'Jamef', 'Po de acar', 'Titan express', 'Nivaboy express', 'Extra', 'Emprio beraldin', 'Ravage express', 'Brasileira express', 'Mega express', 'Maqgel', 'Personal service', \"Silva's hortifruti\", 'Sedex correios', 'Souza cruz', 'Supernova', 'Trans tour', 'Vinhais', 'Castropil', 'Trans magna', 'America delivery', 'Acert express', 'Napolitano', 'Campeo paulista', 'Ups', 'Tramax', 'Antilhas', 'Aroumar', 'Ceratti', 'Q', 'Marcas de espaa', 'Santa luiza', 'Pacer logstica', 'Transminato', 'Fedex', 'Gigio', 'Mundancia carreto', 'Caf toledo', 'Tasca', 'Wan-san', 'Daytona express', 'Embalagens trinca', nan, 'City freight', 'Cnex', 'Cctv', 'China post', 'Best express', 'Ycil', 'Yto express', 'Ems', 'Ytoexpress', 'Comapan', 'Empanadas santander', 'Pony malta', 'Coke', 'Bimbo', 'Hills', 'Servientrega', 'Guadalupe', 'Postobn', 'De todito', 'Mccain', 'Frito lay', 'San mateo', 'Supermas stick', 'La alquera', 'Colandes', 'Kikes huevos', 'Panflex', 'Lcteos jirah', 'Gansito', 'Alpina', 'Arepa siempre fresca', 'Todo rico', 'Pollo', 'Alquera', 'Supertiendas la 42', 'Quindio', 'Mar y peces', 'Distraves', 'Mis carnes', 'Reel fresh', 'Double class', 'Ladon', 'Afrah', 'Poslaju', 'Nagoya', 'Dbkl', 'Rona', 'Amber air freight', 'Ambius', 'Tage', 'Sos express', 'Hari hari', 'Boleh didapati', 'Abx express', 'City link', \"D'urban\", 'Crystal ice', 'Telaga', 'Mph', 'Hicom', 'Kts wisel', 'Dunia', 'Smart connexion', 'Da vinci', 'Tutti fruitti', 'Airpak', 'Jukebox', 'Gerimis baiduri', 'Le meridien', 'Kangaroo', 'Sasbid', 'Wholesale retail stationery', 'Lasani', 'Renoma', 'Atlas', 'Rinnai', 'Tm', 'Princess', 'Sky net', 'Tlc', 'The sun', 'Keno', 'International law book series', \"D'fruit trading\", 'Telaga biru', 'Teoh co. logistics', 'Hock cheong', 'Ais', 'Total logistics', 'Parklane fabrics', 'Guru', 'Pita pan', 'Repsol', 'Anvi distribuciones', 'Correos', 'Anvi', 'Tasol', 'Ocsa', 'Al corte', 'El carche', 'Don pin', 'Reformas ayala', 'Tips', 'Coca cola', 'Madrid', 'Ovonovo - huevos relasco', 'Luis simoes', 'Frigorifico', 'Iris color', 'Aperitive', 'Donpin', 'Ryder', 'Smoking loon', 'U.s.foods', 'Guinness', 'Agar latino', 'Russo & sons', 'Lkq', 'Laser ship', 'Island creek oysters', 'Central bakery inc', \"Iggy's\", 'Agar', 'Bombay sapphire ', 'Angers trucking inc', 'Penske', 'Us foods', 'Paul w marks', 'Ai', '\"towing\"', 'Heineken', 'Lala', 'Crema rancherita', 'Jarritos', 'Helio fiesta', 'Sabritas', 'Red cola', 'Gepp', 'Firesta', 'Carana', 'Unkonwn', 'Heinegen', 'Red pack', 'Epura', 'Volumex', 'Forti leche', 'La sierra', 'Chapanitas', 'Bonafont', 'Uknown', 'Fiesta', 'Unknow', 'Tecate', 'Corona', 'Alpura', 'Hielo fiesta', 'Barcel', 'Paletas payaso', 'Boing', 'Servicio mercantil de trasporte y carga', 'A1', 'Ofix', 'Naranjada', 'Trash', 'Danone', 'Indio', 'Hielo club']\n",
            "['Van', 'Motorbike', 'Rigid truck', 'Bicycle', 'Pickup truck', 'Pedestrian', 'Car', 'Cart', 'Rigid', 'Truck', 'Tricycle', 'Minivan', 'Pickup', 'Big truck', 'Man', 'Motorcycle', 'Carbike', 'Horse', ' van', 'Van ', 'Articulated truck', 'Unknown', 'Taxi', 'Dolly', 'Dolly ', 'Bike', 'Rt']\n"
          ]
        }
      ],
      "source": [
        "# Asegurarse que todos empiezan con Letra Mayuscula\n",
        "df['Vehicle Type'] = df['Vehicle Type'].str.capitalize()   \n",
        "df['Divering Company'] = df['Divering Company'].str.capitalize()   \n",
        "print(df['Divering Company'].unique().tolist())\n",
        "print(df['Vehicle Type'].unique().tolist())\n"
      ]
    },
    {
      "cell_type": "code",
      "execution_count": 99,
      "metadata": {
        "colab": {
          "base_uri": "https://localhost:8080/"
        },
        "id": "Sv2FKrhmEG57",
        "outputId": "630946c9-5a9a-4553-db60-91a75632990b"
      },
      "outputs": [
        {
          "name": "stdout",
          "output_type": "stream",
          "text": [
            "['New space', 'Colortel', 'Unknown', 'Pullman', 'Correos', 'Piquetur log', 'Brico', 'Vigor', 'Proactiva', 'Famiglia fertucilli', 'Guaran', 'Coca-cola', 'Antarctica', 'Budweiser', 'Famiglia francello', 'Blue angels', 'Cocacda', 'Aurora', 'Pepsilo', 'Fazenda', 'Acqua vip', 'Suzuki', 'DHL', 'Nestle', 'Control express', 'Jamef', 'Po de acar', 'Titan express', 'Nivaboy express', 'Extra', 'Emprio beraldin', 'Ravage express', 'Brasileira express', 'Mega express', 'Maqgel', 'Personal service', \"Silva's hortifruti\", 'Sedex Correos', 'Souza cruz', 'Supernova', 'Trans tour', 'Vinhais', 'Castropil', 'Trans magna', 'America delivery', 'Acert express', 'Napolitano', 'Campeo paulista', 'UPS', 'Tramax', 'Antilhas', 'Aroumar', 'Ceratti', 'Q', 'Marcas de espaa', 'Santa luiza', 'Pacer logstica', 'Transminato', 'Fedex', 'Gigio', 'Mundancia carreto', 'Caf toledo', 'Tasca', 'Wan-san', 'Daytona express', 'Embalagens trinca', nan, 'City freight', 'Cnex', 'Cctv', 'China post', 'Best express', 'Ycil', 'Yto express', 'Ems', 'Ytoexpress', 'Comapan', 'Empanadas santander', 'Pony malta', 'Coca-Cola', 'Bimbo', 'Hills', 'Servientrega', 'Guadalupe', 'Postobn', 'De todito', 'Mccain', 'Frito lay', 'San mateo', 'Supermas stick', 'La alquera', 'Colandes', 'Kikes huevos', 'Panflex', 'Lcteos jirah', 'Gansito', 'Alpina', 'Arepa siempre fresca', 'Todo rico', 'Pollo', 'Alquera', 'Supertiendas la 42', 'Quindio', 'Mar y peces', 'Distraves', 'Mis carnes', 'Reel fresh', 'Double class', 'Ladon', 'Afrah', 'Poslaju', 'Nagoya', 'Dbkl', 'Rona', 'Amber air freight', 'Ambius', 'Tage', 'Sos express', 'Hari hari', 'Boleh didapati', 'Abx express', 'City link', \"D'urban\", 'Crystal ice', 'Telaga Biru', 'Mph', 'Hicom', 'Kts wisel', 'Dunia', 'Smart connexion', 'Da vinci', 'Tutti fruitti', 'Airpak', 'Jukebox', 'Gerimis baiduri', 'Le meridien', 'Kangaroo', 'Sasbid', 'Wholesale retail stationery', 'Lasani', 'Renoma', 'Atlas', 'Rinnai', 'Tm', 'Princess', 'Sky net', 'Tlc', 'The sun', 'Keno', 'International law book series', \"D'fruit trading\", 'Teoh co. logistics', 'Hock cheong', 'Ais', 'Total logistics', 'Parklane fabrics', 'Guru', 'Pita pan', 'Repsol', 'Anvi distribuciones', 'Anvi Distribuciones', 'Tasol', 'Ocsa', 'Al corte', 'El carche', 'Don Pin', 'Reformas ayala', 'Tips', 'Madrid', 'Ovonovo - huevos relasco', 'Luis simoes', 'Frigorifico', 'Iris color', 'Aperitive', 'Donpin', 'Ryder', 'Smoking loon', 'U.s.foods', 'Guinness', 'Agar Latino', 'Russo & sons', 'Lkq', 'Laser ship', 'Island creek oysters', 'Central bakery inc', \"Iggy's\", 'Bombay sapphire ', 'Angers trucking inc', 'Penske', 'U.S. Foods', 'Paul w marks', 'Ai', '\"towing\"', 'Heineken', 'Lala', 'Crema rancherita', 'Jarritos', 'Helio fiesta', 'Sabritas', 'Red cola', 'Gepp', 'Fiesta', 'Carana', 'Red pack', 'Epura', 'Volumex', 'Forti leche', 'La sierra', 'Chapanitas', 'Bonafont', 'Tecate', 'Corona', 'Alpura', 'Hielo fiesta', 'Barcel', 'Paletas payaso', 'Boing', 'Servicio mercantil de trasporte y carga', 'A1', 'Ofix', 'Naranjada', 'Trash', 'Danone', 'Indio', 'Hielo club']\n",
            "['Van', 'Motorcycle', 'Truck', 'Bicycle', 'Pedestrian', 'Car', 'Cart', 'Tricycle', 'Minivan', 'Pickup', 'Man', 'Carbike', 'Horse', 'Unknown', 'Taxi', 'Dolly', 'Rt']\n",
            "Len of Companies before cleaning: 225\n",
            "Len of Vehicles before cleaning: 17\n"
          ]
        }
      ],
      "source": [
        "# Valores similares como Coca Cola y Coca-Cola deben ser iguales\n",
        "valores_correctos_empresas = {\n",
        "    \"Coca-Cola\": [\"CocaCola\", \"Cocacola\", \"Coke\", \"Coca\", \"Coca cola\"], \n",
        "    \"DHL\": [\"Dhl\", \"dhl\"], \n",
        "    \"Agar Latino\": [\"Agar\", \"Agar latino\"], \n",
        "    \"Unknown\" : [\"unknown\", \"Unknow\", \"Unkwown\", \"Unkown\", \"Unkonwn\", \"Uknown\"], \n",
        "    \"Anvi Distribuciones\" : [\"Anvi\"],\n",
        "    \"Correos\" : [\"Correios\"], \n",
        "    \"Don Pin\" : [\"DonPin\", \"Don pin\"], \n",
        "    \"UPS\" : [\"Ups\"], \n",
        "    \"Fiesta\" : [\"Firesta\"],\n",
        "    \"Sedex Correos\" : [\"Sedex correios\"],\n",
        "    \"Heineken\": [\"Heinegen\"], \n",
        "    \"Telaga Biru\" : [\"Telaga\", \"Telaga biru\"], \n",
        "    \"U.S. Foods\" : [\"Us foods\", \"U.S Foods\", \"U.S foods\"],\n",
        "    \"YTO Express\" : [\"YTOEXPRESS\"]\n",
        "}\n",
        "\n",
        "valores_correctos_vehiculos = {\n",
        "    \"Truck\" : [\"Articulated truck\", \"Big truck\", \"Rigid truck\", \"Pickup truck\", \"Turck\", \"Rigid\"], \n",
        "    \"Bicycle\" : [\"Bike\" ], \n",
        "    \"Motorcycle\" : [\"Motorbike\"], \n",
        "    \"Van\" : [\" van\", \"Van \"],\n",
        "    \"Dolly\": [\"Dolly \"]\n",
        "}\n",
        "\n",
        "for k, v in valores_correctos_empresas.items():\n",
        "    df.loc[df['Divering Company'].isin(v), 'Divering Company'] = k\n",
        "\n",
        "for k, v in valores_correctos_vehiculos.items():\n",
        "    df.loc[df['Vehicle Type'].isin(v), 'Vehicle Type'] = k\n",
        "\n",
        "print(df['Divering Company'].unique().tolist())\n",
        "print(df['Vehicle Type'].unique().tolist())\n",
        "print(f\"Len of Companies before cleaning: {len(df['Divering Company'].unique().tolist())}\")\n",
        "print(f\"Len of Vehicles before cleaning: {len(df['Vehicle Type'].unique().tolist())}\")"
      ]
    }
  ],
  "metadata": {
    "colab": {
      "name": "Limpieza.ipynb",
      "provenance": []
    },
    "kernelspec": {
      "display_name": "Python 3.9.1 64-bit",
      "language": "python",
      "name": "python3"
    },
    "language_info": {
      "name": "python",
      "version": "3.9.1"
    },
    "vscode": {
      "interpreter": {
        "hash": "7812ea015bdcee6f23a998adcdd2ef97c151c0c241b7b7070987d9313e41299d"
      }
    }
  },
  "nbformat": 4,
  "nbformat_minor": 0
}
