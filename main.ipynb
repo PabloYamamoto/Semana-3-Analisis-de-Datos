{
 "cells": [
  {
   "cell_type": "markdown",
   "metadata": {},
   "source": [
    "# Limpieza y Análisis de Datos - Semana 3"
   ]
  },
  {
   "cell_type": "code",
   "execution_count": 20,
   "metadata": {},
   "outputs": [],
   "source": [
    "# Importamos las librerias necesarias \n",
    "import pandas as pd\n",
    "import matplotlib.pyplot as plt"
   ]
  },
  {
   "cell_type": "markdown",
   "metadata": {},
   "source": [
    "## --- Viajes ---\n",
    "#### Preguntas h, j, t"
   ]
  },
  {
   "cell_type": "code",
   "execution_count": 21,
   "metadata": {},
   "outputs": [],
   "source": [
    "def viajes():\n",
    "    print(\"Viajes\")"
   ]
  },
  {
   "cell_type": "markdown",
   "metadata": {},
   "source": [
    "## --- Ciudades ---\n",
    "#### Preguntas o-s, f"
   ]
  },
  {
   "cell_type": "code",
   "execution_count": 22,
   "metadata": {},
   "outputs": [],
   "source": [
    "def ciudades():\n",
    "    print(\"Ciudades\")"
   ]
  },
  {
   "cell_type": "markdown",
   "metadata": {},
   "source": [
    "## --- Tiendas ---\n",
    "#### Preguntas l - s"
   ]
  },
  {
   "cell_type": "code",
   "execution_count": 23,
   "metadata": {},
   "outputs": [],
   "source": [
    "def tiendas():\n",
    "    print(\"Tiendas\")"
   ]
  },
  {
   "cell_type": "markdown",
   "metadata": {},
   "source": [
    "## --- Vehiculos --- \n",
    "#### Preguntas a - e, g, i, k"
   ]
  },
  {
   "cell_type": "code",
   "execution_count": 24,
   "metadata": {},
   "outputs": [],
   "source": [
    "def vehiculos():\n",
    "    print(\"Vehiculos\")"
   ]
  },
  {
   "cell_type": "code",
   "execution_count": 25,
   "metadata": {},
   "outputs": [],
   "source": [
    "def limpiezaDeDatos(df):\n",
    "    # Quitar columnas sin nombre\n",
    "    df\n",
    "    df.drop(df.columns[df.columns.str.contains('unnamed',case = False)],axis = 1, inplace = True)\n",
    "\n",
    "    df\n",
    "    # ----- Esta funcion aplica para las columnas I y J ----\n",
    "\n",
    "    # Quitar las dobles comillas de los valores\n",
    "    \n",
    "    # Quitar caracteres especiales (que no sean ASCII)\n",
    "    \n",
    "    # Quitar valores N/A \n",
    "    \n",
    "    # Asegurarse que todos empiezan con Letra Mayuscula\n",
    "    \n",
    "    # Checar faltas de ortografia y corregirlas\n",
    "    \n",
    "    # Valores similares como Coca Cola y Coca-Cola deben ser iguales\n"
   ]
  },
  {
   "cell_type": "code",
   "execution_count": 26,
   "metadata": {},
   "outputs": [],
   "source": [
    "def merge(df_1, df_2):\n",
    "    print(\"Combinando archivos para eliminar repetidos...\")\n"
   ]
  },
  {
   "cell_type": "code",
   "execution_count": 27,
   "metadata": {},
   "outputs": [],
   "source": [
    "def main():\n",
    "    disruptions_df = pd.read_excel(\"Deliveries_disruptions.xlsx\")\n",
    "    limpiezaDeDatos(disruptions_df)"
   ]
  },
  {
   "cell_type": "code",
   "execution_count": null,
   "metadata": {},
   "outputs": [],
   "source": [
    "main()"
   ]
  }
 ],
 "metadata": {
  "kernelspec": {
   "display_name": "Python 3.9.1 64-bit",
   "language": "python",
   "name": "python3"
  },
  "language_info": {
   "codemirror_mode": {
    "name": "ipython",
    "version": 3
   },
   "file_extension": ".py",
   "mimetype": "text/x-python",
   "name": "python",
   "nbconvert_exporter": "python",
   "pygments_lexer": "ipython3",
   "version": "3.9.1"
  },
  "orig_nbformat": 4,
  "vscode": {
   "interpreter": {
    "hash": "7812ea015bdcee6f23a998adcdd2ef97c151c0c241b7b7070987d9313e41299d"
   }
  }
 },
 "nbformat": 4,
 "nbformat_minor": 2
}
