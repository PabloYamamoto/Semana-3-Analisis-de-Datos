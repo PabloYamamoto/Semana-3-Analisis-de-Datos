{
 "cells": [
  {
   "cell_type": "markdown",
   "metadata": {},
   "source": [
    "# Limpieza y Análisis de Datos - Semana 3"
   ]
  },
  {
   "cell_type": "code",
   "execution_count": 28,
   "metadata": {},
   "outputs": [],
   "source": [
    "# Importamos las librerias necesarias \n",
    "import pandas as pd\n",
    "import matplotlib.pyplot as plt"
   ]
  },
  {
   "cell_type": "markdown",
   "metadata": {},
   "source": [
    "## Lectura de datos"
   ]
  },
  {
   "cell_type": "code",
   "execution_count": 29,
   "metadata": {},
   "outputs": [],
   "source": [
    "df = pd.read_excel(\"Merged_2.xlsx\")"
   ]
  },
  {
   "cell_type": "markdown",
   "metadata": {},
   "source": [
    "## Limpieza de Datos"
   ]
  },
  {
   "cell_type": "code",
   "execution_count": 30,
   "metadata": {},
   "outputs": [
    {
     "name": "stdout",
     "output_type": "stream",
     "text": [
      "['New Space', 'Colortel', 'Unknown', 'Pullman', 'Correos', 'Piquetur Log', 'Brico', 'Vigor', 'Proactiva', 'Famiglia Fertucilli', 'Guaran', 'Coca-Cola', 'Antarctica', 'Budweiser', 'Famiglia Francello', 'Blue Angels', 'Cocacda', 'Aurora', 'Pepsilo', 'Fazenda', 'Acqua Vip', 'Suzuki', 'DHL', 'Nestle', 'Control Express', 'Jamef', 'Po De Acar', 'Titan Express', 'Nivaboy Express', 'Extra', 'Emprio Beraldin', 'Ravage Express', 'Brasileira Express', 'Mega Express', 'Maqgel', 'Personal Service', \"Silva'S Hortifruti\", 'Sedex Correios', 'Souza Cruz', 'Supernova', 'Trans Tour', 'Vinhais', 'Castropil', 'Trans Magna', 'America Delivery', 'Acert Express', 'Napolitano', 'Campeo Paulista', 'UPS', 'Tramax', 'Antilhas', 'Aroumar', 'Ceratti', 'Q', 'Marcas De Espaa', 'Santa Luiza', 'Pacer Logstica', 'Transminato', 'Fedex', 'Gigio', 'Mundancia Carreto', 'Caf Toledo', 'Tasca', 'Wan-San', 'Daytona Express', 'Embalagens Trinca', nan, 'City Freight', 'Cnex', 'Cctv', 'China Post', 'Best Express', 'Ycil', 'YTO Express', 'Ems', 'Comapan', 'Empanadas Santander', 'Pony Malta', 'Bimbo', 'Hills', 'Servientrega', 'Guadalupe', 'Postobn', 'De Todito', 'Mccain', 'Frito Lay', 'San Mateo', 'Supermas Stick', 'La Alquera', 'Colandes', 'Kikes Huevos', 'Panflex', 'Lcteos Jirah', 'Gansito', 'Alpina', 'Arepa Siempre Fresca', 'Todo Rico', 'Pollo', 'Alquera', 'Supertiendas La 42', 'Quindio', 'Mar Y Peces', 'Distraves', 'Mis Carnes', 'Reel Fresh', 'Double Class', 'Ladon', 'Afrah', 'Poslaju', 'Nagoya', 'Dbkl', 'Rona', 'Amber Air Freight', 'Ambius', 'Tage', 'Sos Express', 'Hari Hari', 'Boleh Didapati', 'Abx Express', 'City Link', \"D'Urban\", 'Crystal Ice', 'Telaga Biru', 'Mph', 'Hicom', 'Kts Wisel', 'Dunia', 'Smart Connexion', 'Da Vinci', 'Tutti Fruitti', 'Airpak', 'Jukebox', 'Gerimis Baiduri', 'Le Meridien', 'Kangaroo', 'Sasbid', 'Wholesale Retail Stationery', 'Lasani', 'Renoma', 'Atlas', 'Rinnai', 'Tm', 'Princess', 'Sky Net', 'Tlc', 'The Sun', 'Keno', 'International Law Book Series', \"D'Fruit Trading\", 'Teoh Co. Logistics', 'Hock Cheong', 'Ais', 'Total Logistics', 'Parklane Fabrics', 'Guru', 'Pita Pan', 'Repsol', 'Anvi Distribuciones', 'Tasol', 'Ocsa', 'Al Corte', 'El Carche', 'Don Pin', 'Reformas Ayala', 'Tips', 'Coca Cola', 'Madrid', 'Ovonovo - Huevos Relasco', 'Luis Simoes', 'Frigorifico', 'Iris Color', 'Aperitive', 'Donpin', 'Ryder', 'Smoking Loon', 'U.S.Foods', 'Guinness', 'Agar Latino', 'Russo & Sons', 'Lkq', 'Laser Ship', 'Island Creek Oysters', 'Central Bakery Inc', \"Iggy'S\", 'Bombay Sapphire ', 'Angers Trucking Inc', 'Penske', 'Us Foods', 'Paul W Marks', 'Ai', '\"Towing\"', 'Heineken', 'Lala', 'Crema Rancherita', 'Jarritos', 'Helio Fiesta', 'Sabritas', 'Red Cola', 'Gepp', 'Fiesta', 'Carana', 'Red Pack', 'Epura', 'Volumex', 'Forti Leche', 'La Sierra', 'Chapanitas', 'Bonafont', 'Tecate', 'Corona', 'Alpura', 'Hielo Fiesta', 'Barcel', 'Paletas Payaso', 'Boing', 'Servicio Mercantil De Trasporte Y Carga', 'A1', 'Ofix', 'Naranjada', 'Trash', 'Danone', 'Indio', 'Hielo Club', 'None', 'Dbs', 'Mataboi', 'Castano', 'Macafee', 'Prodata', 'Cristal', 'Potato', 'Oil', 'Tnt', 'Ferrorpak', 'Hp', 'Correo Chile', 'Faco Frer', 'Pbs', 'Balvia', 'Itaipalva']\n",
      "['Van', 'Motorcycle', 'Truck', 'Bicycle', 'Pedestrian', 'Car', 'Cart', 'Tricycle', 'Minivan', 'Pickup', 'Carbike', 'Horse', 'Unknown', 'Taxi', 'Dolly', 'Rt', 'Bus']\n",
      "Len of Companies before cleaning: 240\n",
      "Len of Vehicles before cleaning: 17\n"
     ]
    }
   ],
   "source": [
    "# Remove unamed columns\n",
    "df.drop(df.columns[df.columns.str.contains(\n",
    "    'unnamed', case=False)], axis=1, inplace=True)\n",
    "# Remove rows only if they have entire missing values\n",
    "df.dropna(axis='index', how='all')\n",
    "# ----- Limpiaremos Vehicle Type y Divering Company principalmente ----\n",
    "\n",
    "# Quitar las dobles comillas de los valores\n",
    "df['Divering Company'] = df['Divering Company'].replace('\\\"', '')\n",
    "df['Vehicle Type'] = df['Vehicle Type'].replace('\\\"', '')\n",
    "\n",
    "# Quitar valores no ascii\n",
    "df = df.applymap(lambda x: x.encode('ascii', 'ignore').decode('ascii') if isinstance(x, str) else x)\n",
    "\n",
    "# Quitar valores N/A\n",
    "# Definimos una lista con valores que deseamos quitar\n",
    "values = [\"N/A\", \"No name\"]\n",
    "# Aqui quitamos filas que contengan los valores en la lista para las columnas que especifiquemos\n",
    "df = df[df['Vehicle Type'].isin(values) == False]\n",
    "df = df[df['Divering Company'].isin(values) == False]\n",
    "\n",
    "# --- TODAVIA HAY REGISTROS QUE TIENEN nan COMO VALOR ---\n",
    "\n",
    "# Asegurarse que todos empiezan con Letra Mayuscula\n",
    "df['Vehicle Type'] = df['Vehicle Type'].str.title()\n",
    "df['Divering Company'] = df['Divering Company'].str.title()\n",
    "\n",
    "# Valores similares como Coca Cola y Coca-Cola deben ser iguales\n",
    "valores_correctos_empresas = {\n",
    "    \"Coca-Cola\": [\"CocaCola\", \"Cocacola\", \"Coke\", \"Coca\", \"Coca cola\"], \n",
    "    \"DHL\": [\"Dhl\", \"dhl\"], \n",
    "    \"Agar Latino\": [\"Agar\", \"Agar latino\"], \n",
    "    \"Unknown\" : [\"unknown\", \"Unknow\", \"Unkwown\", \"Unkown\", \"Unkonwn\", \"Uknown\"], \n",
    "    \"Anvi Distribuciones\" : [\"Anvi\"],\n",
    "    \"Correos\" : [\"Correios\"], \n",
    "    \"Don Pin\" : [\"DonPin\", \"Don pin\"], \n",
    "    \"UPS\" : [\"Ups\"], \n",
    "    \"Fiesta\" : [\"Firesta\"],\n",
    "    \"Sedex Correos\" : [\"Sedex correios\"],\n",
    "    \"Heineken\": [\"Heinegen\"], \n",
    "    \"Telaga Biru\" : [\"Telaga\", \"Telaga biru\"], \n",
    "    \"U.S. Foods\" : [\"Us foods\", \"U.S Foods\", \"U.S foods\", \"US Foods\"],\n",
    "    \"YTO Express\" : [\"YTOEXPRESS\", \"Yto express\", \"Ytoexpress\", \"YtoExpress\", \"Yto Express\"],\n",
    "}\n",
    "\n",
    "valores_correctos_vehiculos = {\n",
    "    \"Truck\": [\"Articulated truck\", \"Big truck\", \"Rigid truck\", \"Pickup truck\", \"Turck\", \"Rigid\", \"Articulated Truck\", \"Big Truck\", \"Rigid Truck\", \"Pickup Truck\"],\n",
    "    \"Bicycle\" : [\"Bike\" ], \n",
    "    \"Motorcycle\" : [\"Motorbike\"], \n",
    "    \"Van\" : [\" van\", \"Van \", \" Man\", \"man\", \"Man\", \" Van\"],\n",
    "    \"Dolly\": [\"dolly\", \"Dolly \"]\n",
    "}\n",
    "\n",
    "for k, v in valores_correctos_empresas.items():\n",
    "    df.loc[df['Divering Company'].isin(v), 'Divering Company'] = k\n",
    "\n",
    "for k, v in valores_correctos_vehiculos.items():\n",
    "    df.loc[df['Vehicle Type'].isin(v), 'Vehicle Type'] = k\n",
    "\n",
    "print(df['Divering Company'].unique().tolist())\n",
    "print(df['Vehicle Type'].unique().tolist())\n",
    "print(f\"Len of Companies before cleaning: {len(df['Divering Company'].unique().tolist())}\")\n",
    "print(f\"Len of Vehicles before cleaning: {len(df['Vehicle Type'].unique().tolist())}\")\n"
   ]
  },
  {
   "cell_type": "markdown",
   "metadata": {},
   "source": [
    "## --- Viajes ---\n",
    "#### Preguntas h, j, t"
   ]
  },
  {
   "cell_type": "code",
   "execution_count": null,
   "metadata": {},
   "outputs": [],
   "source": []
  },
  {
   "cell_type": "markdown",
   "metadata": {},
   "source": [
    "## --- Ciudades ---\n",
    "#### Preguntas o-s, f"
   ]
  },
  {
   "cell_type": "code",
   "execution_count": null,
   "metadata": {},
   "outputs": [],
   "source": []
  },
  {
   "cell_type": "markdown",
   "metadata": {},
   "source": [
    "## --- Tiendas ---\n",
    "#### Preguntas l - s"
   ]
  },
  {
   "cell_type": "code",
   "execution_count": null,
   "metadata": {},
   "outputs": [],
   "source": []
  },
  {
   "cell_type": "markdown",
   "metadata": {},
   "source": [
    "## --- Vehiculos --- \n",
    "#### Preguntas a - e, g, i, k"
   ]
  },
  {
   "cell_type": "code",
   "execution_count": 36,
   "metadata": {},
   "outputs": [
    {
     "name": "stdout",
     "output_type": "stream",
     "text": [
      "17\n"
     ]
    },
    {
     "data": {
      "image/png": "[encoded data removed]",
      "text/plain": [
       "<Figure size 432x288 with 1 Axes>"
      ]
     },
     "metadata": {
      "needs_background": "light"
     },
     "output_type": "display_data"
    }
   ],
   "source": [
    "# Pregunta a) Tipos de vehiculos\n",
    "print(len(df[\"Vehicle Type\"].unique().tolist()))\n",
    "# Pregunta b) Top 3 de vehiculos\n",
    "plt.title(\"Top 3 of Vehicle Types\")\n",
    "plt.xlabel(\"Vehicle Type\")\n",
    "plt.ylabel(\"Count\")\n",
    "df[\"Vehicle Type\"].value_counts().head(3).plot(kind=\"bar\")\n",
    "for i, v in enumerate(df[\"Vehicle Type\"].value_counts().head(3).index):\n",
    "    plt.text(i, df[\"Vehicle Type\"].value_counts().head(3).values[i], df[\"Vehicle Type\"].value_counts().head(3).values[i])\n"
   ]
  }
 ],
 "metadata": {
  "kernelspec": {
   "display_name": "Python 3.9.1 64-bit",
   "language": "python",
   "name": "python3"
  },
  "language_info": {
   "codemirror_mode": {
    "name": "ipython",
    "version": 3
   },
   "file_extension": ".py",
   "mimetype": "text/x-python",
   "name": "python",
   "nbconvert_exporter": "python",
   "pygments_lexer": "ipython3",
   "version": "3.9.1"
  },
  "orig_nbformat": 4,
  "vscode": {
   "interpreter": {
    "hash": "7812ea015bdcee6f23a998adcdd2ef97c151c0c241b7b7070987d9313e41299d"
   }
  }
 },
 "nbformat": 4,
 "nbformat_minor": 2
}
